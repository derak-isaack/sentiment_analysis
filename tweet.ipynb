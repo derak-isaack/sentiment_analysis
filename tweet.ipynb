{
 "cells": [
  {
   "cell_type": "code",
   "execution_count": 7,
   "metadata": {},
   "outputs": [],
   "source": [
    "# Import necessary libraries\n",
    "import pandas as pd  \n",
    "import numpy as np \n",
    "from ntscraper import Nitter\n",
    "from vaderSentiment.vaderSentiment import SentimentIntensityAnalyzer\n"
   ]
  },
  {
   "cell_type": "code",
   "execution_count": 3,
   "metadata": {},
   "outputs": [
    {
     "name": "stderr",
     "output_type": "stream",
     "text": [
      "Testing instances: 100%|██████████| 33/33 [02:01<00:00,  3.68s/it]\n"
     ]
    }
   ],
   "source": [
    "#Initialize the scraper\n",
    "scraper = Nitter()"
   ]
  },
  {
   "cell_type": "code",
   "execution_count": 4,
   "metadata": {},
   "outputs": [],
   "source": [
    "#Function for scraping the tweets\n",
    "def get_tweets(name, modes, no):\n",
    "    tweets = scraper.get_tweets(name, mode=modes, number=no)\n",
    "    final_tweets = []\n",
    "    for tweet in tweets['tweets']:\n",
    "        data = [tweet['link'], tweet['text'],tweet['date'], tweet['stats']['likes'], tweet['stats']['comments']]\n",
    "        final_tweets.append(data)\n",
    "    data= pd.DataFrame(final_tweets, columns=['link','text','date','No_of_likes','No_of_tweets'])\n",
    "    return data "
   ]
  },
  {
   "cell_type": "code",
   "execution_count": 5,
   "metadata": {},
   "outputs": [
    {
     "name": "stdout",
     "output_type": "stream",
     "text": [
      "11-Dec-23 18:01:57 - No instance specified, using random instance https://nitter.io.lol\n",
      "11-Dec-23 18:02:05 - Current stats for jumbo jet until:2021-04-30 since:2020-01-01: 13 tweets, 0 threads...\n",
      "11-Dec-23 18:02:10 - Current stats for jumbo jet until:2021-04-30 since:2020-01-01: 27 tweets, 0 threads...\n",
      "11-Dec-23 18:02:15 - Current stats for jumbo jet until:2021-04-30 since:2020-01-01: 42 tweets, 0 threads...\n",
      "11-Dec-23 18:02:19 - Current stats for jumbo jet until:2021-04-30 since:2020-01-01: 57 tweets, 0 threads...\n",
      "11-Dec-23 18:02:23 - Current stats for jumbo jet until:2021-04-30 since:2020-01-01: 75 tweets, 0 threads...\n",
      "11-Dec-23 18:02:28 - Current stats for jumbo jet until:2021-04-30 since:2020-01-01: 87 tweets, 0 threads...\n",
      "11-Dec-23 18:02:33 - Current stats for jumbo jet until:2021-04-30 since:2020-01-01: 105 tweets, 0 threads...\n",
      "11-Dec-23 18:02:37 - Current stats for jumbo jet until:2021-04-30 since:2020-01-01: 124 tweets, 0 threads...\n",
      "11-Dec-23 18:02:42 - Current stats for jumbo jet until:2021-04-30 since:2020-01-01: 140 tweets, 0 threads...\n",
      "11-Dec-23 18:02:46 - Current stats for jumbo jet until:2021-04-30 since:2020-01-01: 155 tweets, 0 threads...\n",
      "11-Dec-23 18:02:50 - Current stats for jumbo jet until:2021-04-30 since:2020-01-01: 172 tweets, 0 threads...\n",
      "11-Dec-23 18:02:55 - Current stats for jumbo jet until:2021-04-30 since:2020-01-01: 187 tweets, 0 threads...\n",
      "11-Dec-23 18:03:00 - Current stats for jumbo jet until:2021-04-30 since:2020-01-01: 207 tweets, 0 threads...\n",
      "11-Dec-23 18:03:05 - Current stats for jumbo jet until:2021-04-30 since:2020-01-01: 222 tweets, 0 threads...\n",
      "11-Dec-23 18:03:10 - Current stats for jumbo jet until:2021-04-30 since:2020-01-01: 238 tweets, 0 threads...\n",
      "11-Dec-23 18:03:15 - Current stats for jumbo jet until:2021-04-30 since:2020-01-01: 253 tweets, 0 threads...\n",
      "11-Dec-23 18:03:20 - Current stats for jumbo jet until:2021-04-30 since:2020-01-01: 267 tweets, 0 threads...\n",
      "11-Dec-23 18:03:24 - Current stats for jumbo jet until:2021-04-30 since:2020-01-01: 280 tweets, 0 threads...\n",
      "11-Dec-23 18:03:29 - Current stats for jumbo jet until:2021-04-30 since:2020-01-01: 296 tweets, 0 threads...\n",
      "11-Dec-23 18:03:34 - Current stats for jumbo jet until:2021-04-30 since:2020-01-01: 313 tweets, 0 threads...\n",
      "11-Dec-23 18:03:38 - Current stats for jumbo jet until:2021-04-30 since:2020-01-01: 330 tweets, 0 threads...\n",
      "11-Dec-23 18:03:43 - Current stats for jumbo jet until:2021-04-30 since:2020-01-01: 345 tweets, 0 threads...\n",
      "11-Dec-23 18:03:47 - Current stats for jumbo jet until:2021-04-30 since:2020-01-01: 361 tweets, 0 threads...\n",
      "11-Dec-23 18:03:52 - Current stats for jumbo jet until:2021-04-30 since:2020-01-01: 375 tweets, 0 threads...\n",
      "11-Dec-23 18:03:58 - Current stats for jumbo jet until:2021-04-30 since:2020-01-01: 390 tweets, 0 threads...\n",
      "11-Dec-23 18:04:03 - Current stats for jumbo jet until:2021-04-30 since:2020-01-01: 406 tweets, 0 threads...\n",
      "11-Dec-23 18:04:07 - Current stats for jumbo jet until:2021-04-30 since:2020-01-01: 421 tweets, 0 threads...\n",
      "11-Dec-23 18:04:12 - Current stats for jumbo jet until:2021-04-30 since:2020-01-01: 436 tweets, 0 threads...\n",
      "11-Dec-23 18:04:17 - Current stats for jumbo jet until:2021-04-30 since:2020-01-01: 452 tweets, 0 threads...\n",
      "11-Dec-23 18:04:22 - Current stats for jumbo jet until:2021-04-30 since:2020-01-01: 470 tweets, 0 threads...\n",
      "11-Dec-23 18:04:26 - Current stats for jumbo jet until:2021-04-30 since:2020-01-01: 487 tweets, 0 threads...\n",
      "11-Dec-23 18:04:31 - Current stats for jumbo jet until:2021-04-30 since:2020-01-01: 500 tweets, 0 threads...\n",
      "11-Dec-23 18:04:36 - Current stats for jumbo jet until:2021-04-30 since:2020-01-01: 513 tweets, 0 threads...\n",
      "11-Dec-23 18:04:40 - Current stats for jumbo jet until:2021-04-30 since:2020-01-01: 530 tweets, 0 threads...\n",
      "11-Dec-23 18:04:45 - Current stats for jumbo jet until:2021-04-30 since:2020-01-01: 545 tweets, 0 threads...\n",
      "11-Dec-23 18:04:50 - Current stats for jumbo jet until:2021-04-30 since:2020-01-01: 558 tweets, 0 threads...\n",
      "11-Dec-23 18:04:55 - Current stats for jumbo jet until:2021-04-30 since:2020-01-01: 572 tweets, 0 threads...\n",
      "11-Dec-23 18:04:59 - Current stats for jumbo jet until:2021-04-30 since:2020-01-01: 584 tweets, 0 threads...\n",
      "11-Dec-23 18:05:04 - Current stats for jumbo jet until:2021-04-30 since:2020-01-01: 597 tweets, 0 threads...\n",
      "11-Dec-23 18:05:08 - Current stats for jumbo jet until:2021-04-30 since:2020-01-01: 613 tweets, 0 threads...\n",
      "11-Dec-23 18:05:13 - Current stats for jumbo jet until:2021-04-30 since:2020-01-01: 629 tweets, 0 threads...\n",
      "11-Dec-23 18:05:18 - Current stats for jumbo jet until:2021-04-30 since:2020-01-01: 645 tweets, 0 threads...\n",
      "11-Dec-23 18:05:22 - Current stats for jumbo jet until:2021-04-30 since:2020-01-01: 663 tweets, 0 threads...\n",
      "11-Dec-23 18:05:27 - Current stats for jumbo jet until:2021-04-30 since:2020-01-01: 679 tweets, 0 threads...\n",
      "11-Dec-23 18:05:32 - Current stats for jumbo jet until:2021-04-30 since:2020-01-01: 697 tweets, 0 threads...\n",
      "11-Dec-23 18:05:36 - Current stats for jumbo jet until:2021-04-30 since:2020-01-01: 712 tweets, 0 threads...\n",
      "11-Dec-23 18:05:42 - Current stats for jumbo jet until:2021-04-30 since:2020-01-01: 726 tweets, 0 threads...\n",
      "11-Dec-23 18:05:46 - Current stats for jumbo jet until:2021-04-30 since:2020-01-01: 740 tweets, 0 threads...\n",
      "11-Dec-23 18:05:51 - Current stats for jumbo jet until:2021-04-30 since:2020-01-01: 754 tweets, 0 threads...\n",
      "11-Dec-23 18:05:56 - Current stats for jumbo jet until:2021-04-30 since:2020-01-01: 770 tweets, 0 threads...\n",
      "11-Dec-23 18:06:00 - Current stats for jumbo jet until:2021-04-30 since:2020-01-01: 788 tweets, 0 threads...\n",
      "11-Dec-23 18:06:05 - Current stats for jumbo jet until:2021-04-30 since:2020-01-01: 807 tweets, 0 threads...\n",
      "11-Dec-23 18:06:10 - Current stats for jumbo jet until:2021-04-30 since:2020-01-01: 822 tweets, 0 threads...\n",
      "11-Dec-23 18:06:14 - Current stats for jumbo jet until:2021-04-30 since:2020-01-01: 836 tweets, 0 threads...\n",
      "11-Dec-23 18:06:19 - Current stats for jumbo jet until:2021-04-30 since:2020-01-01: 851 tweets, 0 threads...\n",
      "11-Dec-23 18:06:23 - Current stats for jumbo jet until:2021-04-30 since:2020-01-01: 867 tweets, 0 threads...\n",
      "11-Dec-23 18:06:28 - Current stats for jumbo jet until:2021-04-30 since:2020-01-01: 880 tweets, 0 threads...\n",
      "11-Dec-23 18:06:33 - Current stats for jumbo jet until:2021-04-30 since:2020-01-01: 894 tweets, 0 threads...\n",
      "11-Dec-23 18:06:37 - Current stats for jumbo jet until:2021-04-30 since:2020-01-01: 906 tweets, 0 threads...\n",
      "11-Dec-23 18:06:42 - Current stats for jumbo jet until:2021-04-30 since:2020-01-01: 923 tweets, 0 threads...\n",
      "11-Dec-23 18:06:47 - Current stats for jumbo jet until:2021-04-30 since:2020-01-01: 941 tweets, 0 threads...\n",
      "11-Dec-23 18:06:51 - Current stats for jumbo jet until:2021-04-30 since:2020-01-01: 957 tweets, 0 threads...\n",
      "11-Dec-23 18:06:56 - Current stats for jumbo jet until:2021-04-30 since:2020-01-01: 971 tweets, 0 threads...\n",
      "11-Dec-23 18:07:01 - Current stats for jumbo jet until:2021-04-30 since:2020-01-01: 984 tweets, 0 threads...\n",
      "11-Dec-23 18:07:06 - Current stats for jumbo jet until:2021-04-30 since:2020-01-01: 1000 tweets, 0 threads...\n"
     ]
    }
   ],
   "source": [
    "#Store the tweets in a dataframe \n",
    "data = get_tweets(\"jumbo jet until:2021-04-30 since:2020-01-01\", \"term\", 1000)"
   ]
  },
  {
   "cell_type": "code",
   "execution_count": 6,
   "metadata": {},
   "outputs": [],
   "source": [
    "data.to_csv(\"tweets.csv\")"
   ]
  },
  {
   "cell_type": "code",
   "execution_count": 8,
   "metadata": {},
   "outputs": [
    {
     "name": "stdout",
     "output_type": "stream",
     "text": [
      "                                                  text  \\\n",
      "0    You do realise that a dog has the same carbon ...   \n",
      "1                                       Jumbo jet 😄😄👍🏼   \n",
      "2    James should have asked \"If a jumbo jet with 3...   \n",
      "3    Hoo tau tau yg ada pemumpang sakit kan? Nah iy...   \n",
      "4                              Ya siéntate, Jumbo Jet.   \n",
      "..                                                 ...   \n",
      "995  Zet ze in één figuur en je kunt een jumbojet t...   \n",
      "996  So how can somebody start working as contactor...   \n",
      "997  £2.5 m for a briefing room. £200k to decor Dow...   \n",
      "998  Everyone's all 420 this and 666 that, but can ...   \n",
      "999  #WIWTARCHIVE #AscensionIsland #BritishAirways ...   \n",
      "\n",
      "                                             Sentiment  \n",
      "0    {'neg': 0.0, 'neu': 0.862, 'pos': 0.138, 'comp...  \n",
      "1    {'neg': 0.0, 'neu': 0.542, 'pos': 0.458, 'comp...  \n",
      "2    {'neg': 0.0, 'neu': 0.936, 'pos': 0.064, 'comp...  \n",
      "3    {'neg': 0.041, 'neu': 0.872, 'pos': 0.087, 'co...  \n",
      "4    {'neg': 0.0, 'neu': 1.0, 'pos': 0.0, 'compound...  \n",
      "..                                                 ...  \n",
      "995  {'neg': 0.0, 'neu': 1.0, 'pos': 0.0, 'compound...  \n",
      "996  {'neg': 0.0, 'neu': 1.0, 'pos': 0.0, 'compound...  \n",
      "997  {'neg': 0.076, 'neu': 0.924, 'pos': 0.0, 'comp...  \n",
      "998  {'neg': 0.0, 'neu': 0.673, 'pos': 0.327, 'comp...  \n",
      "999  {'neg': 0.0, 'neu': 1.0, 'pos': 0.0, 'compound...  \n",
      "\n",
      "[1000 rows x 2 columns]\n"
     ]
    }
   ],
   "source": [
    "# Sentiment analysis of tweets\n",
    "df = pd.read_csv(\"tweets.csv\")\n",
    "\n",
    "def analyze_sentiment(tweet):\n",
    "    analyzer = SentimentIntensityAnalyzer()\n",
    "    sentiment = analyzer.polarity_scores(tweet)\n",
    "    return sentiment\n",
    "\n",
    "df['Sentiment'] = df['text'].apply(analyze_sentiment)\n",
    "\n",
    "print(df[['text', 'Sentiment']])"
   ]
  },
  {
   "cell_type": "code",
   "execution_count": null,
   "metadata": {},
   "outputs": [],
   "source": []
  }
 ],
 "metadata": {
  "kernelspec": {
   "display_name": "Python 3",
   "language": "python",
   "name": "python3"
  },
  "language_info": {
   "codemirror_mode": {
    "name": "ipython",
    "version": 3
   },
   "file_extension": ".py",
   "mimetype": "text/x-python",
   "name": "python",
   "nbconvert_exporter": "python",
   "pygments_lexer": "ipython3",
   "version": "3.10.11"
  }
 },
 "nbformat": 4,
 "nbformat_minor": 2
}
